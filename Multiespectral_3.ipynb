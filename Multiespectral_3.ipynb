{
 "cells": [
  {
   "cell_type": "markdown",
   "metadata": {},
   "source": [
    "# Reading Multi Spectral Images\n",
    "\n",
    "https://nbviewer.jupyter.org/github/thomasaarholt/hyperspy-demos/blob/master/2_SVD_and_BSS.ipynb\n",
    "\n",
    "## Bands and Wavelengths\n",
    "When talking about spectral data, we talk from both, the electromagnetic spectrum and image bands. Spectral remote sensing data are collected by powerful camera-like instruments known as imaging spectrometers. Imaging spectrometers collect reflected light energy in “bands.”\n",
    "\n",
    "A band represents a segment of the electromagnetic spectrum. For example, the wavelength values between 800 nanometers (nm) and 850 nm might be one band captured by an imaging spectrometer. The imaging spectrometer collects reflected light energy within a pixel area on the ground. Since an imaging spectrometer collects many different types of light - for each pixel the amount of light energy for each type of light or band will be recorded. So, for example, a camera records the amount of red, green and blue light for each pixel.\n",
    "\n",
    "Often when we work with a multispectral dataset, the band information is reported as the center wavelength value. This value represents the center point value of the wavelengths represented in that band. Thus in a band spanning 800-850 nm, the center would be 825 nm.\n",
    "\n",
    "## Spectral Resolution\n",
    "The spectral resolution of a dataset that has more than one band, refers to the spectral width of each band in the dataset. While a general spectral resolution of the sensor is often provided, not all sensors collect information within bands of uniform widths.\n",
    "\n",
    "## Spatial Resolution\n",
    "The spatial resolution of a raster represents the area on the ground that each pixel covers. If you have smaller pixels in a raster the data will appear more “detailed.” If you have large pixels in a raster, the data will appear more coarse or “fuzzy.”\n",
    "\n",
    "\n",
    "## Multispectral Imagery\n",
    "Images obtained with a ADC Lite - Tetracam's Lightweight ADC\n",
    "\n",
    "I made pitures about: \n",
    "\n",
    ">Aluminum , Copper, Brass, Iron, Stainless Steel, Painted Iron \n",
    "\n",
    "http://tetracam.com/Products-ADC_Lite.htm\n",
    "\n",
    "MRobalinho - 25-03-2019"
   ]
  },
  {
   "cell_type": "code",
   "execution_count": null,
   "metadata": {},
   "outputs": [],
   "source": [
    "# Some libraries\n",
    "import glob, os\n",
    "import numpy as np\n",
    "import matplotlib.pyplot as plt\n",
    "import pandas as pd\n",
    "from PIL import Image\n",
    "from openpyxl import load_workbook"
   ]
  },
  {
   "cell_type": "code",
   "execution_count": null,
   "metadata": {},
   "outputs": [],
   "source": [
    "# Verify my current folder\n",
    "currDir = os.path.dirname(os.path.realpath(\"__file__\"))\n",
    "mypath = currDir\n",
    "print(currDir)  "
   ]
  },
  {
   "cell_type": "code",
   "execution_count": null,
   "metadata": {},
   "outputs": [],
   "source": [
    "# Path to the image files\n",
    "folder = \"imagedata04\"\n",
    "path = currDir + \"/\" + folder + \"/\"\n",
    "\n",
    "# Part name of file to filter files\n",
    "end_file = \"TIF\""
   ]
  },
  {
   "cell_type": "code",
   "execution_count": null,
   "metadata": {},
   "outputs": [],
   "source": [
    "# Read files from folder\n",
    "print(' ---- IMAGES ON THE FOLDER -------')\n",
    "for file in os.listdir(path):\n",
    "    if file.endswith(end_file):\n",
    "        print(os.path.join(file))"
   ]
  },
  {
   "cell_type": "code",
   "execution_count": null,
   "metadata": {},
   "outputs": [],
   "source": [
    "# Create Data Frame with image information\n",
    "df_image = []"
   ]
  },
  {
   "cell_type": "code",
   "execution_count": null,
   "metadata": {},
   "outputs": [],
   "source": [
    "# Look from an chanel from then image\n",
    "\n",
    "def channel(img, n):\n",
    "    \"\"\"Isolate the nth channel from the image.\n",
    "\n",
    "       n = 0: red, 1: green, 2: blue\n",
    "    \"\"\"\n",
    "    a = np.array(img)\n",
    "    a[:,:,(n!=0, n!=1, n!=2)] *= 0\n",
    "#    a[:,:,n] *= 0\n",
    "    print(Image.fromarray(a), 'Get Channel n: ', n)\n",
    "  \n",
    "    return Image.fromarray(a)\n",
    "\n",
    "# def to resize \n",
    "# Given parameters : image , number to divide (resize)\n",
    "def imageResize(img, n):\n",
    "    width, height = img.size \n",
    "\n",
    "    print('Original size:', width, '/', height, 'Resize:',n)\n",
    "    \n",
    "    newWidth = int(width / n)\n",
    "    newHeight = int(height / n)\n",
    "    img.resize((newWidth, newHeight), Image.ANTIALIAS)\n",
    "    print('New size:', newWidth, '/', newHeight)\n",
    "    return img"
   ]
  },
  {
   "cell_type": "code",
   "execution_count": null,
   "metadata": {},
   "outputs": [],
   "source": [
    "def print_file(path, xfile):\n",
    "  print('------------------------------------------------------------------------')   \n",
    "  tif_f1 = Image.open(path+xfile)\n",
    "    \n",
    "  # Transform Image to array\n",
    "  aArray = np.array(tif_f1)\n",
    "  # Array sum  \n",
    "  xsum = aArray.sum() / 1000000\n",
    "    \n",
    "  # Get channel 0\n",
    "  x0_channel = channel(tif_f1, 0)\n",
    "  aArray = np.array(x0_channel)\n",
    "  xsum_0 = aArray.sum() / 1000000  \n",
    "    \n",
    "  # Get channel 1\n",
    "  x1_channel = channel(tif_f1, 1)\n",
    "  aArray = np.array(x1_channel)\n",
    "  xsum_1 = aArray.sum() / 1000000  \n",
    "         \n",
    "  # Get channel 2\n",
    "  x2_channel = channel(tif_f1, 2)\n",
    "  aArray = np.array(x2_channel)\n",
    "  xsum_2 = aArray.sum() / 1000000  \n",
    "\n",
    "  # Histogram from image\n",
    "  aHist = tif_f1.histogram()\n",
    "  hsum = sum(aHist) / 100000\n",
    "\n",
    "  # Histogram channel 0\n",
    "  aHist_0 = x0_channel.histogram()\n",
    "  hsum_0 = sum(aHist_0) / 100000\n",
    "\n",
    "  # Histogram channel 1\n",
    "  aHist_1 = x1_channel.histogram()\n",
    "  hsum_1 = sum(aHist_1) / 100000\n",
    "  \n",
    "  # Histogram chanel 0\n",
    "  aHist_2 = x2_channel.histogram()\n",
    "  hsum_2 = sum(aHist_2) / 100000\n",
    " \n",
    "  # number elements on list\n",
    "  nlist = len(aHist)\n",
    "    \n",
    "  # Get color\n",
    "  pix_val = list(tif_f1.getdata())\n",
    "  # Transform tuple in a list\n",
    "  pix_val_flat = [x for sets in pix_val for x in sets]\n",
    "  # Sum the list and medium list pixel\n",
    "  sum_pix = sum(pix_val_flat)\n",
    "  med_pix = sum_pix / len(pix_val_flat)\n",
    "\n",
    "  # Obtain name file without extension \n",
    "  sample_name = os.path.basename(xfile).split('_')[0]\n",
    " \n",
    "  # Print information  \n",
    "  print('Inf.File:',xfile , sample_name,' Size:',tif_f1.size, ' Format:',tif_f1.format, ' Mode:', tif_f1.mode)\n",
    "  # More information image\n",
    "  print('         ',' Bands Extrems:',tif_f1.getextrema())\n",
    "  # More information image\n",
    "  print('         ',' Sum array:',xsum, ' Sum Ch 0:', xsum_0, ' Sum Ch 1:', xsum_1, ' Sum Ch 2:', xsum_2)      \n",
    "  # More information image\n",
    "  print('         ',' Histog:', hsum ,' Histog Ch0:', hsum_0,' Histog Ch1:', hsum_1,' Histog Ch2:', hsum_2, '  N.List elem:', nlist)\n",
    "  print('         ',' Color:', med_pix)  \n",
    "  # insert information in a Pandas Data Frame\n",
    "  df_image.append((folder, xfile, sample_name, tif_f1.size, tif_f1.format, tif_f1.mode ,tif_f1.getextrema(), \n",
    "                   xsum, xsum_0, xsum_1, xsum_2, hsum, hsum_0,hsum_1,hsum_2, nlist, med_pix))  "
   ]
  },
  {
   "cell_type": "code",
   "execution_count": null,
   "metadata": {},
   "outputs": [],
   "source": [
    "# Create Data Frame with image information\n",
    "df_image = []\n",
    "\n",
    "xend_file = \"*\" + end_file\n",
    "os.chdir(path)\n",
    "for file in glob.glob(xend_file):\n",
    " #   print(file)\n",
    "    print_file(path,file)"
   ]
  },
  {
   "cell_type": "code",
   "execution_count": null,
   "metadata": {},
   "outputs": [],
   "source": [
    "df = pd.DataFrame(df_image,columns=['Folder','File','Material','Size','Format','Mode','Bands Extrems',\n",
    "                                    'Array_sum', 'Sum_Ch0','Sum_Ch1','Sum_Ch2',\n",
    "                                    'Histogram','Hist_Ch0','Hist_Ch1','Hist_Ch2','Number_list_elements','Color'])\n",
    "df.head()"
   ]
  },
  {
   "cell_type": "code",
   "execution_count": null,
   "metadata": {},
   "outputs": [],
   "source": [
    "# Verify my current folder\n",
    "path = mypath + r\"/upt_data.xlsx\"\n",
    "print('Write statistics into file :', path)\n",
    "\n",
    "# Block to Read excel old excel file\n",
    "book = load_workbook(path)\n",
    "writer = pd.ExcelWriter(path, engine = 'openpyxl')\n",
    "writer.book = book\n",
    "# ------------------------\n",
    "\n",
    "# Write statistics into excel file\n",
    "#writer = pd.ExcelWriter(path, engine = 'xlsxwriter') # only for new excelfile\n",
    "df.to_excel(writer, sheet_name = folder)\n",
    "writer.save()\n",
    "writer.close()"
   ]
  },
  {
   "cell_type": "code",
   "execution_count": null,
   "metadata": {},
   "outputs": [],
   "source": [
    "df_plot = pd.DataFrame(df, columns=[\"Material\", \"Array_sum\", \"Sum_Ch0\", \"Sum_Ch1\", \"Sum_Ch2\",\"Color\"])\n",
    "df_plot\n"
   ]
  },
  {
   "cell_type": "code",
   "execution_count": null,
   "metadata": {},
   "outputs": [],
   "source": [
    "df_plot.Sum_Ch0 = df_plot.Sum_Ch0 + 100 # to have diference lines during plot\n",
    "df_plot.Sum_Ch1 = df_plot.Sum_Ch1 + 200\n",
    "df_plot.Sum_Ch2 = df_plot.Sum_Ch2 + 300\n",
    "df_plot.Color  = df_plot.Color * 10\n",
    "df_plot"
   ]
  },
  {
   "cell_type": "code",
   "execution_count": null,
   "metadata": {},
   "outputs": [],
   "source": [
    "df_plot.plot(y=[\"Array_sum\",\"Sum_Ch0\",\"Sum_Ch1\", \"Sum_Ch2\",\"Color\"],figsize=(10,5), grid=True )\n",
    "\n",
    "# Obtain legend (xticks) for X axis\n",
    "loc_Array_sum = np.arange(len(df_plot.index))\n",
    "# Position of X labels\n",
    "xtick_loc = list(loc_Array_sum)  \n",
    "# Name of x labels\n",
    "xticks = list(df_plot.Material)\n",
    "#-------\n",
    "\n",
    "#plt.plot(df_plot.Array_sum)\n",
    "plt.title('IMAGE WITH ALL CHANNELS',fontsize=20)\n",
    "plt.ylabel('Sum of image matrix',fontsize=18)\n",
    "plt.xticks(xtick_loc, df_plot.Material, rotation=0)\n",
    "plt.xlabel('Material',fontsize=18)\n",
    "plt.show()"
   ]
  },
  {
   "cell_type": "code",
   "execution_count": null,
   "metadata": {},
   "outputs": [],
   "source": [
    "# Create pivot table\n",
    "df_plot1 = df_plot.groupby('Material')['Array_sum', 'Sum_Ch0','Sum_Ch1','Sum_Ch2','Color'].mean()\n",
    "df_plot1"
   ]
  },
  {
   "cell_type": "code",
   "execution_count": null,
   "metadata": {},
   "outputs": [],
   "source": [
    "df = pd.DataFrame(df_plot1.Array_sum)   \n",
    "color = ['red','blue','green','orange','cyan','black']"
   ]
  },
  {
   "cell_type": "code",
   "execution_count": null,
   "metadata": {},
   "outputs": [],
   "source": [
    "df.plot(kind='bar', y=0, color=color, legend=False, rot=0, figsize=(10,5))\n",
    "plt.title('IMAGE WITH ALL CHANNELS',fontsize=20)\n",
    "plt.xlabel('Material',fontsize=18)\n",
    "plt.ylabel('Sum of image matrix',fontsize=18)\n",
    "plt.show()"
   ]
  },
  {
   "cell_type": "code",
   "execution_count": null,
   "metadata": {},
   "outputs": [],
   "source": [
    "loc_Array_sum = np.arange(len(df_plot1.index))\n",
    "xtick_loc = list(loc_Array_sum)  \n",
    "xticks = list(df_plot1.index)\n",
    "\n",
    "df_plot1.plot( y=[\"Array_sum\",\"Sum_Ch0\",\"Sum_Ch1\", \"Sum_Ch2\",\"Color\"],figsize=(10,5), grid=True )\n",
    "plt.xticks(xtick_loc, df_plot1.index, rotation=0)\n",
    "plt.title('IMAGE WITH ALL CHANNELS',fontsize=20)\n",
    "plt.xlabel('Material',fontsize=18)\n",
    "plt.ylabel('Sum of image matrix',fontsize=18)\n",
    "plt.show()"
   ]
  },
  {
   "cell_type": "code",
   "execution_count": null,
   "metadata": {},
   "outputs": [],
   "source": [
    "loc_Array_sum = np.arange(len(df_plot1.index))+0.1 # Offsetting the tick-label location\n",
    "loc_r = np.arange(len(df_plot1.index))-0.1 # Offsetting the tick-label location\n",
    "loc_g = np.arange(len(df_plot1.index))-0.3 # Offsetting the tick-label location\n",
    "loc_b = np.arange(len(df_plot1.index))-0.5 # Offsetting the tick-label location\n",
    "\n",
    "xtick_loc = list(loc_g)  \n",
    "xticks = list(df_plot1.index)"
   ]
  },
  {
   "cell_type": "code",
   "execution_count": null,
   "metadata": {},
   "outputs": [],
   "source": []
  },
  {
   "cell_type": "code",
   "execution_count": null,
   "metadata": {},
   "outputs": [],
   "source": [
    "#Plot  Bar Graph\n",
    "#df_plot1.plot(kind='bar', figsize=(12,5), grid=True, color='darkred',fontsize=18)\n",
    "loc_Array_sum = np.arange(len(df_plot1.index))+0.1 # Offsetting the tick-label location\n",
    "loc_b = np.arange(len(df_plot1.index))-0.1 # Offsetting the tick-label location\n",
    "loc_g = np.arange(len(df_plot1.index))-0.3 # Offsetting the tick-label location\n",
    "loc_r = np.arange(len(df_plot1.index))-0.5 # Offsetting the tick-label location\n",
    "\n",
    "#xtick_loc = list(loc_Array_sum) + list(loc_r) + list(loc_g) + list(loc_b)\n",
    "#xticks = list(selected.keys())+ list(rejected.keys())\n",
    "colors = ['darkred','red','green','blue','orange','cyan','black']\n",
    "plt.figure(figsize=(12,5))\n",
    "\n",
    "plt.bar(loc_Array_sum, df_plot1.Array_sum, color=colors[0], width=0.2, label='Array Sum')\n",
    "plt.bar(loc_r, df_plot1.Sum_Ch0, color=colors[1], width=0.2,label='Band R')\n",
    "plt.bar(loc_g, df_plot1.Sum_Ch1, color=colors[2], width=0.2,label='Band G')\n",
    "plt.bar(loc_b, df_plot1.Sum_Ch2, color=colors[3], width=0.2,label='Band B')\n",
    "\n",
    "plt.title('IMAGE WITH ALL CHANNELS',fontsize=20)\n",
    "plt.xlabel('Material',fontsize=18)\n",
    "plt.ylabel('Sum of image matrix',fontsize=18)\n",
    "plt.xticks(xtick_loc, xticks, rotation=0)\n",
    "plt.legend(bbox_to_anchor=(.8,0.8),\\\n",
    "    bbox_transform=plt.gcf().transFigure)\n",
    "\n",
    "plt.show()"
   ]
  },
  {
   "cell_type": "code",
   "execution_count": null,
   "metadata": {},
   "outputs": [],
   "source": [
    "plt.figure(1)\n",
    "plt.figure(figsize=(17, 4))\n",
    "plt.tight_layout()\n",
    "plt.subplot(231)\n",
    "plt.title('IMAGE CHANNEL 0')\n",
    "plt.xticks(rotation=45)\n",
    "plt.grid(True)\n",
    "plt.plot(df_plot1.Sum_Ch0, 'k--')\n",
    "\n",
    "plt.subplot(232)\n",
    "plt.title('IMAGE CHANNEL 1')\n",
    "plt.xticks(rotation=45)\n",
    "plt.grid(True)\n",
    "plt.plot(df_plot1.Sum_Ch1,  'r--')\n",
    "\n",
    "plt.subplot(233)\n",
    "plt.title('IMAGE CHANNEL 2')\n",
    "plt.xticks(rotation=45)\n",
    "plt.plot(df_plot1.Sum_Ch2,  'g--')\n",
    "plt.grid(True)\n",
    "plt.show()"
   ]
  },
  {
   "cell_type": "code",
   "execution_count": null,
   "metadata": {},
   "outputs": [],
   "source": [
    "# Plot channel based\n",
    "plt.plot(df_plot1.Array_sum)\n",
    "plt.title('IMAGE WITH ALL CHANNELS',fontsize=20)\n",
    "plt.xlabel('Material',fontsize=18)\n",
    "plt.ylabel('Sum of image matrix',fontsize=18)\n",
    "plt.xticks(rotation=45)\n",
    "plt.grid(True)\n",
    "plt.show()"
   ]
  },
  {
   "cell_type": "code",
   "execution_count": null,
   "metadata": {},
   "outputs": [],
   "source": [
    "# Plot based on color\n",
    "plt.plot(df_plot1.Color)\n",
    "plt.title('IMAGE WITH COLORS BASED',fontsize=20)\n",
    "plt.xlabel('Material',fontsize=18)\n",
    "plt.ylabel('Sum of color image',fontsize=18)\n",
    "plt.xticks(rotation=45)\n",
    "plt.grid(True)\n",
    "plt.show()"
   ]
  },
  {
   "cell_type": "markdown",
   "metadata": {},
   "source": [
    "# Using PIL to read images\n"
   ]
  },
  {
   "cell_type": "code",
   "execution_count": null,
   "metadata": {},
   "outputs": [],
   "source": [
    "# Path to the image files\n",
    "folder = \"imagedata04\"\n",
    "path = mypath + \"/\" + folder + \"/\"\n",
    "path"
   ]
  },
  {
   "cell_type": "code",
   "execution_count": null,
   "metadata": {},
   "outputs": [],
   "source": [
    "os.chdir(path)"
   ]
  },
  {
   "cell_type": "code",
   "execution_count": null,
   "metadata": {},
   "outputs": [],
   "source": [
    "# Read TIFF Image\n",
    "from PIL import Image\n",
    "\n",
    "f1_alum = 'Copper_1.TIF'\n",
    "tif_f1_alum = Image.open(f1_alum)\n",
    "#\n",
    "#print('File name:',f1_alum , '     Size File:',tif_f1_alum.size, '    Format file:',tif_f1_alum.format)\n",
    "tif_f1_alum"
   ]
  },
  {
   "cell_type": "code",
   "execution_count": null,
   "metadata": {},
   "outputs": [],
   "source": [
    "# Print Bands from image\n",
    "tif_f1_alum.getbands()"
   ]
  },
  {
   "cell_type": "code",
   "execution_count": null,
   "metadata": {},
   "outputs": [],
   "source": [
    "# Display extrems from each band\n",
    "def print_bands(path, xfile):\n",
    "    tif_f1 = Image.open(path+xfile)\n",
    "    print('Bands Extrems from File name:',xfile ,tif_f1.getextrema())    "
   ]
  },
  {
   "cell_type": "code",
   "execution_count": null,
   "metadata": {},
   "outputs": [],
   "source": [
    "mypath"
   ]
  },
  {
   "cell_type": "code",
   "execution_count": null,
   "metadata": {},
   "outputs": [],
   "source": [
    "# Read files from folder - ALUMINUM\n",
    "\n",
    "for file in glob.glob(\"*.tif\"):\n",
    " #   print(file)\n",
    "    print_bands(path,file)"
   ]
  },
  {
   "cell_type": "code",
   "execution_count": null,
   "metadata": {},
   "outputs": [],
   "source": [
    "print(tif_f1_alum.getcolors())"
   ]
  },
  {
   "cell_type": "code",
   "execution_count": null,
   "metadata": {},
   "outputs": [],
   "source": [
    "# Transform Image to array\n",
    "aArray = np.array(tif_f1_alum)\n",
    "#aArray = np.array(x0_channel)\n",
    "#a[:,:,0] *=0\n",
    "#a[:,:,1] *=0\n",
    "\n",
    "# Transform array to Image\n",
    "cImage = Image.fromarray(aArray)\n",
    "aArray "
   ]
  },
  {
   "cell_type": "code",
   "execution_count": null,
   "metadata": {},
   "outputs": [],
   "source": [
    "# Transform array to list\n",
    "matrix = aArray.tolist()\n",
    "#print(\"Original array: \"+str(matrix))\n",
    "matrix"
   ]
  },
  {
   "cell_type": "code",
   "execution_count": null,
   "metadata": {},
   "outputs": [],
   "source": [
    "# Soma do array da imagem\n",
    "xsum = aArray.sum()\n",
    "xsum"
   ]
  },
  {
   "cell_type": "code",
   "execution_count": null,
   "metadata": {},
   "outputs": [],
   "source": [
    "# Get channel 0\n",
    "x0_channel = channel(cImage, 0)\n",
    "x0_channel"
   ]
  },
  {
   "cell_type": "code",
   "execution_count": null,
   "metadata": {},
   "outputs": [],
   "source": [
    "# Get channel 1\n",
    "x1_channel = channel(cImage, 1)\n",
    "x1_channel"
   ]
  },
  {
   "cell_type": "code",
   "execution_count": null,
   "metadata": {},
   "outputs": [],
   "source": [
    "# Get channel 2\n",
    "x2_channel = channel(cImage, 2)\n",
    "x2_channel"
   ]
  },
  {
   "cell_type": "code",
   "execution_count": null,
   "metadata": {},
   "outputs": [],
   "source": [
    "# Resize Image\n",
    "aFile = cImage\n",
    "xFile = imageResize(aFile, 20)\n",
    "   \n",
    "          \n",
    "#Saved in the same relative location \n",
    "xFile.save(\"resized_picture.jpg\") "
   ]
  },
  {
   "cell_type": "code",
   "execution_count": null,
   "metadata": {},
   "outputs": [],
   "source": [
    "print(xFile)"
   ]
  },
  {
   "cell_type": "code",
   "execution_count": null,
   "metadata": {},
   "outputs": [],
   "source": [
    "# Getting histogram of image \n",
    "aHistgram = aFile.histogram()\n",
    "print(aHistgram)"
   ]
  },
  {
   "cell_type": "code",
   "execution_count": null,
   "metadata": {},
   "outputs": [],
   "source": [
    "print(sum(aHistgram), len(aHistgram))"
   ]
  },
  {
   "cell_type": "code",
   "execution_count": null,
   "metadata": {},
   "outputs": [],
   "source": [
    "# Getting histogram of image of channel 0 - R\n",
    "aHist_0= x0_channel.histogram() \n",
    "print(aHist_0)"
   ]
  },
  {
   "cell_type": "code",
   "execution_count": null,
   "metadata": {},
   "outputs": [],
   "source": [
    "print(sum(aHist_0), len(aHistgram))"
   ]
  },
  {
   "cell_type": "code",
   "execution_count": null,
   "metadata": {},
   "outputs": [],
   "source": [
    "# Getting histogram of image of channel 1 - B\n",
    "aHist_1= x1_channel.histogram() \n",
    "print(aHist_1)"
   ]
  },
  {
   "cell_type": "code",
   "execution_count": null,
   "metadata": {},
   "outputs": [],
   "source": [
    "# Getting histogram of image of channel 2 - B \n",
    "aHist_2= x2_channel.histogram() \n",
    "print(aHist_2)"
   ]
  },
  {
   "cell_type": "code",
   "execution_count": null,
   "metadata": {},
   "outputs": [],
   "source": [
    "plt.plot(aHistgram)\n",
    "plt.title('IMAGE WITH ALL CHANNELS')\n",
    "plt.ylabel('My Image for all channels')\n",
    "plt.show()"
   ]
  },
  {
   "cell_type": "code",
   "execution_count": null,
   "metadata": {},
   "outputs": [],
   "source": [
    "plt.plot(aHist_0, color='r')\n",
    "plt.title('IMAGE CHANNEL 0')\n",
    "plt.ylabel('My Image channel 0')\n",
    "plt.show()"
   ]
  },
  {
   "cell_type": "code",
   "execution_count": null,
   "metadata": {},
   "outputs": [],
   "source": [
    "plt.plot(aHist_1, color='g')\n",
    "plt.title('IMAGE CHANNEL 1')\n",
    "plt.ylabel('My Image channel 1')\n",
    "plt.show()"
   ]
  },
  {
   "cell_type": "code",
   "execution_count": null,
   "metadata": {},
   "outputs": [],
   "source": [
    "plt.plot(aHist_2, color='b')\n",
    "plt.title('IMAGE CHANNEL 2')\n",
    "plt.ylabel('My Image channel 2')\n",
    "plt.show()"
   ]
  },
  {
   "cell_type": "code",
   "execution_count": null,
   "metadata": {},
   "outputs": [],
   "source": [
    "plt.figure(1)\n",
    "plt.figure(figsize=(17, 4))\n",
    "plt.tight_layout()\n",
    "plt.subplot(231)\n",
    "plt.title('IMAGE CHANNEL 0')\n",
    "plt.plot(aHist_0,   'k--')\n",
    "\n",
    "plt.subplot(232)\n",
    "plt.title('IMAGE CHANNEL 1')\n",
    "plt.plot(aHist_1,  'r--')\n",
    "\n",
    "plt.subplot(233)\n",
    "plt.title('IMAGE CHANNEL 2')\n",
    "plt.plot(aHist_2,  'g--' )\n",
    "plt.show()"
   ]
  },
  {
   "cell_type": "code",
   "execution_count": null,
   "metadata": {},
   "outputs": [],
   "source": [
    "## Using Matplotlib"
   ]
  },
  {
   "cell_type": "code",
   "execution_count": null,
   "metadata": {},
   "outputs": [],
   "source": [
    "import matplotlib.pyplot as plt\n",
    "import matplotlib.image as mpimg\n",
    "import numpy as np"
   ]
  },
  {
   "cell_type": "code",
   "execution_count": null,
   "metadata": {},
   "outputs": [],
   "source": [
    "# Read in the image and print some stats\n",
    "file1 = f1_alum\n",
    "image = mpimg.imread(file1)\n",
    "print(f1_alum, '   This image is: ',type(image), \n",
    "     'with dimensions:', image.shape)"
   ]
  },
  {
   "cell_type": "code",
   "execution_count": null,
   "metadata": {},
   "outputs": [],
   "source": [
    "# Plotting the image\n",
    "\n",
    "imgplot=plt.imshow(image)\n",
    "plt.show()# Using Matplotlib to plot the Image"
   ]
  },
  {
   "cell_type": "code",
   "execution_count": null,
   "metadata": {},
   "outputs": [],
   "source": [
    "#splitting the image \n",
    "print(file1.split()) "
   ]
  },
  {
   "cell_type": "code",
   "execution_count": null,
   "metadata": {},
   "outputs": [],
   "source": [
    "bFile = file1.split()\n",
    "bFile"
   ]
  },
  {
   "cell_type": "code",
   "execution_count": null,
   "metadata": {},
   "outputs": [],
   "source": [
    "#In-place modification \n",
    "cFile = cImage.thumbnail((200, 200)) \n",
    "cImage"
   ]
  },
  {
   "cell_type": "code",
   "execution_count": null,
   "metadata": {},
   "outputs": [],
   "source": [
    "print(tiff.mode) \n",
    "          \n",
    "#converting image to bitmap \n",
    "print(tiff.tobitmap()) \n",
    "          \n",
    "print(type(tiff.tobitmap()) )"
   ]
  },
  {
   "cell_type": "code",
   "execution_count": null,
   "metadata": {},
   "outputs": [],
   "source": [
    "# Transform image in an array\n",
    "import numpy as np\n",
    "imarray = np.array(image)"
   ]
  },
  {
   "cell_type": "code",
   "execution_count": null,
   "metadata": {},
   "outputs": [],
   "source": [
    "# Information array image\n",
    "imarray.shape"
   ]
  },
  {
   "cell_type": "code",
   "execution_count": null,
   "metadata": {},
   "outputs": [],
   "source": [
    "# Information array image\n",
    "image.size"
   ]
  },
  {
   "cell_type": "code",
   "execution_count": null,
   "metadata": {},
   "outputs": [],
   "source": [
    "Image.fromarray(imarray)"
   ]
  },
  {
   "cell_type": "code",
   "execution_count": null,
   "metadata": {},
   "outputs": [],
   "source": [
    "from PIL import Image, ImageFile\n",
    "import string\n"
   ]
  },
  {
   "cell_type": "code",
   "execution_count": null,
   "metadata": {},
   "outputs": [],
   "source": [
    "from PIL import Image, ImageFilter\n",
    "try:\n",
    "    original = Image.open(file1)\n",
    "except:\n",
    "    print (\"Unable to load image\")\n"
   ]
  },
  {
   "cell_type": "code",
   "execution_count": null,
   "metadata": {},
   "outputs": [],
   "source": [
    "original"
   ]
  },
  {
   "cell_type": "code",
   "execution_count": null,
   "metadata": {},
   "outputs": [],
   "source": [
    "print (\"The size of the Image is: \")\n",
    "print(original.format, original.size, original.mode)"
   ]
  },
  {
   "cell_type": "code",
   "execution_count": null,
   "metadata": {},
   "outputs": [],
   "source": [
    "# https://www.pythonforbeginners.com/gui/how-to-use-pillow\n",
    "# The Pillow module provides the following set of predefined image enhancement filters:\n",
    "\n",
    "# BLUR\n",
    "# CONTOUR\n",
    "# DETAIL\n",
    "# EDGE_ENHANCE\n",
    "# EDGE_ENHANCE_MORE\n",
    "# EMBOSS\n",
    "# FIND_EDGES\n",
    "# SMOOTH\n",
    "# SMOOTH_MORE\n",
    "# SHARPEN"
   ]
  },
  {
   "cell_type": "code",
   "execution_count": null,
   "metadata": {},
   "outputs": [],
   "source": [
    "# Blur the image\n",
    "blurred = original.filter(ImageFilter.BLUR)\n",
    "\n",
    "# Display both images\n",
    "original.show()\n",
    "\n",
    "blurred.show()\n",
    "\n",
    "# save the new image\n",
    "blurred.save(\"blurred.png\")"
   ]
  },
  {
   "cell_type": "code",
   "execution_count": null,
   "metadata": {},
   "outputs": [],
   "source": [
    "# Creating Thumbnails\n",
    "size = (128, 128)\n",
    "saved = file1\n",
    "try:\n",
    "    im =  Image.open(file1)\n",
    "except:\n",
    "    print (\"Unable to load image\")\n",
    "\n",
    "im.thumbnail(size)\n",
    "im.save(saved)\n",
    "im.show()"
   ]
  },
  {
   "cell_type": "code",
   "execution_count": null,
   "metadata": {},
   "outputs": [],
   "source": [
    "# Filter SMOOTH the image\n",
    "filter_im = original.filter(ImageFilter.SMOOTH_MORE)\n",
    "\n",
    "#filgter_im.show()"
   ]
  },
  {
   "cell_type": "code",
   "execution_count": null,
   "metadata": {},
   "outputs": [],
   "source": [
    "filter_im"
   ]
  },
  {
   "cell_type": "code",
   "execution_count": null,
   "metadata": {},
   "outputs": [],
   "source": [
    "# Obtain R,G,B separately\n",
    "r, g, b = filter_im.split()"
   ]
  },
  {
   "cell_type": "code",
   "execution_count": null,
   "metadata": {},
   "outputs": [],
   "source": [
    "r"
   ]
  },
  {
   "cell_type": "code",
   "execution_count": null,
   "metadata": {},
   "outputs": [],
   "source": [
    "g"
   ]
  },
  {
   "cell_type": "code",
   "execution_count": null,
   "metadata": {},
   "outputs": [],
   "source": [
    "b"
   ]
  },
  {
   "cell_type": "code",
   "execution_count": null,
   "metadata": {},
   "outputs": [],
   "source": [
    "imarray = np.array(r)\n",
    "imarray"
   ]
  },
  {
   "cell_type": "code",
   "execution_count": null,
   "metadata": {},
   "outputs": [],
   "source": [
    "imarray = np.array(g)\n",
    "imarray"
   ]
  },
  {
   "cell_type": "code",
   "execution_count": null,
   "metadata": {},
   "outputs": [],
   "source": [
    "imarray = np.array(b)\n",
    "imarray"
   ]
  },
  {
   "cell_type": "code",
   "execution_count": null,
   "metadata": {},
   "outputs": [],
   "source": [
    "# Convert into modes\n",
    "im = Image.open(file1).convert(\"L\")"
   ]
  },
  {
   "cell_type": "code",
   "execution_count": null,
   "metadata": {},
   "outputs": [],
   "source": [
    "im"
   ]
  },
  {
   "cell_type": "code",
   "execution_count": null,
   "metadata": {},
   "outputs": [],
   "source": [
    "print(im.format, im.size, im.mode)"
   ]
  },
  {
   "cell_type": "code",
   "execution_count": null,
   "metadata": {},
   "outputs": [],
   "source": [
    "# split the image into individual bands\n",
    "source = filter_im.split()\n",
    "\n",
    "R, G, B = 0, 1, 2\n",
    "\n",
    "# select regions where red is less than 100\n",
    "mask = source[R].point(lambda i: i < 100 and 255)\n",
    "\n",
    "# process the green band\n",
    "out = source[G].point(lambda i: i * 0.7)\n",
    "\n",
    "# paste the processed band back, but only where red was < 100\n",
    "b = source[G].paste(out, None, mask)\n",
    "\n",
    "# build a new multiband image\n",
    "im = Image.merge(filter_im.mode, source)"
   ]
  },
  {
   "cell_type": "code",
   "execution_count": null,
   "metadata": {},
   "outputs": [],
   "source": [
    "source[G]"
   ]
  },
  {
   "cell_type": "code",
   "execution_count": null,
   "metadata": {},
   "outputs": [],
   "source": [
    "# Enhancing images"
   ]
  },
  {
   "cell_type": "code",
   "execution_count": null,
   "metadata": {},
   "outputs": [],
   "source": [
    "from PIL import ImageEnhance\n",
    "\n",
    "enh = ImageEnhance.Contrast(im)\n",
    "enh.enhance(1.3).show(\"30% more contrast\")"
   ]
  },
  {
   "cell_type": "code",
   "execution_count": null,
   "metadata": {},
   "outputs": [],
   "source": [
    "# Verify my current folder\n",
    "currDir = os.path.dirname(os.path.realpath(\"__file__\"))\n",
    "mypath = currDir\n",
    "print(currDir)  "
   ]
  },
  {
   "cell_type": "code",
   "execution_count": null,
   "metadata": {},
   "outputs": [],
   "source": [
    "# Path to the image files\n",
    "#folder = \"imagedata03\"\n",
    "#path = currDir + \"/\" + folder + \"/\""
   ]
  },
  {
   "cell_type": "code",
   "execution_count": null,
   "metadata": {},
   "outputs": [],
   "source": [
    "from PIL import Image\n",
    "\n",
    "xfile = mypath + '\\Copper_2.jpg'\n",
    "\n",
    "im = Image.open(xfile) # Can be many different formats.\n",
    "pix = im.load()\n",
    "print (im.size)  # Get the width and hight of the image for iterating over\n",
    "print (pix[100,100])  # Get the RGBA Value of the a pixel of an image\n",
    "#pix[x,y] = value  # Set the RGBA Value of the image (tuple)\n",
    "\n",
    "im.save('alive_parrot.png')  # Save the modified pixels as .png"
   ]
  },
  {
   "cell_type": "code",
   "execution_count": null,
   "metadata": {},
   "outputs": [],
   "source": [
    "from PIL import Image\n",
    "img = Image.open(xfile)\n",
    "colors = img.convert('RGB').getcolors() #this converts the mode to RGB"
   ]
  },
  {
   "cell_type": "code",
   "execution_count": null,
   "metadata": {},
   "outputs": [],
   "source": [
    "print(colors)"
   ]
  },
  {
   "cell_type": "code",
   "execution_count": null,
   "metadata": {},
   "outputs": [],
   "source": [
    "img"
   ]
  },
  {
   "cell_type": "code",
   "execution_count": null,
   "metadata": {},
   "outputs": [],
   "source": []
  },
  {
   "cell_type": "code",
   "execution_count": null,
   "metadata": {},
   "outputs": [],
   "source": [
    "from PIL import Image\n",
    "# https://www.hackerearth.com/pt-br/practice/notes/extracting-pixel-values-of-an-image-in-python/\n",
    "\n",
    "# getdata() to extract the pixel values. this scans the image horizontally from left to right starting at\n",
    "# the top-left corner. The values got from each pixel is then added into a list.\n",
    "# Finally what we get is a list with each pixel value as a set of 4 values(R,G,B.A).\n",
    "\n",
    "pix_val = list(im.getdata())"
   ]
  },
  {
   "cell_type": "code",
   "execution_count": null,
   "metadata": {},
   "outputs": [],
   "source": [
    "pix_val"
   ]
  },
  {
   "cell_type": "code",
   "execution_count": null,
   "metadata": {},
   "outputs": [],
   "source": [
    "type(pix_val)"
   ]
  },
  {
   "cell_type": "code",
   "execution_count": null,
   "metadata": {},
   "outputs": [],
   "source": [
    "# https://www.hackerearth.com/pt-br/practice/notes/extracting-pixel-values-of-an-image-in-python/\n",
    "    \n",
    "# pix_val is the list that contains all the pixel values which can be printed to see those values \n",
    "# But the list got is a list of sets and some times its needed to flatten the list for example if the \n",
    "# list is like: [(123,124,145,120), (345,453,234,124),……] \n",
    "# and the list that is needed is [123, 124, 145, 120, 345, 453, 234, 124….] then the command to flatten the list is:\n",
    "\n",
    "pix_val_flat = [x for sets in pix_val for x in sets]"
   ]
  },
  {
   "cell_type": "code",
   "execution_count": null,
   "metadata": {},
   "outputs": [],
   "source": [
    "pix_val_flat"
   ]
  },
  {
   "cell_type": "code",
   "execution_count": null,
   "metadata": {},
   "outputs": [],
   "source": [
    "# Sum the list\n",
    "xx = sum(pix_val_flat)\n",
    "\n",
    "# https://convertingcolors.com/decimal-color-139.5525.html\n",
    "# medium color\n",
    "yy = xx / len(pix_val_flat)"
   ]
  },
  {
   "cell_type": "code",
   "execution_count": null,
   "metadata": {},
   "outputs": [],
   "source": [
    "yy"
   ]
  },
  {
   "cell_type": "code",
   "execution_count": null,
   "metadata": {},
   "outputs": [],
   "source": [
    "# Name colors\n",
    "# http://www.discoveryplayground.com/computer-programming-for-kids/rgb-colors/\n",
    "# https://matplotlib.org/examples/color/named_colors.html"
   ]
  },
  {
   "cell_type": "code",
   "execution_count": null,
   "metadata": {},
   "outputs": [],
   "source": [
    "# https://matplotlib.org/gallery/color/named_colors.html\n",
    "# Python from color name to RGB\n",
    "from matplotlib import colors\n",
    "\n",
    "print(colors.to_rgba('blue'))"
   ]
  },
  {
   "cell_type": "code",
   "execution_count": null,
   "metadata": {},
   "outputs": [],
   "source": [
    "# https://matplotlib.org/2.0.0/examples/color/named_colors.html\n",
    "from matplotlib import colors as mcolors\n",
    "\n",
    "\n",
    "colors = dict(mcolors.BASE_COLORS, **mcolors.CSS4_COLORS)\n",
    "\n",
    "# Sort colors by hue, saturation, value and name.\n",
    "by_hsv = sorted((tuple(mcolors.rgb_to_hsv(mcolors.to_rgba(color)[:3])), name)\n",
    "                for name, color in colors.items())\n",
    "sorted_names = [name for hsv, name in by_hsv]\n"
   ]
  },
  {
   "cell_type": "code",
   "execution_count": null,
   "metadata": {},
   "outputs": [],
   "source": [
    "colors"
   ]
  },
  {
   "cell_type": "code",
   "execution_count": null,
   "metadata": {},
   "outputs": [],
   "source": []
  }
 ],
 "metadata": {
  "kernelspec": {
   "display_name": "Python 3",
   "language": "python",
   "name": "python3"
  },
  "language_info": {
   "codemirror_mode": {
    "name": "ipython",
    "version": 3
   },
   "file_extension": ".py",
   "mimetype": "text/x-python",
   "name": "python",
   "nbconvert_exporter": "python",
   "pygments_lexer": "ipython3",
   "version": "3.7.1"
  }
 },
 "nbformat": 4,
 "nbformat_minor": 2
}
