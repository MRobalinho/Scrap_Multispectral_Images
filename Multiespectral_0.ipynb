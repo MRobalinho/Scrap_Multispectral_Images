{
 "cells": [
  {
   "cell_type": "markdown",
   "metadata": {},
   "source": [
    "# Reading Hiper Spectral Images\n",
    "\n",
    "https://nbviewer.jupyter.org/github/thomasaarholt/hyperspy-demos/blob/master/2_SVD_and_BSS.ipynb\n",
    "\n",
    "## Bands and Wavelengths\n",
    "When talking about spectral data, we talk from both, the electromagnetic spectrum and image bands. Spectral remote sensing data are collected by powerful camera-like instruments known as imaging spectrometers. Imaging spectrometers collect reflected light energy in “bands.”\n",
    "\n",
    "A band represents a segment of the electromagnetic spectrum. For example, the wavelength values between 800 nanometers (nm) and 850 nm might be one band captured by an imaging spectrometer. The imaging spectrometer collects reflected light energy within a pixel area on the ground. Since an imaging spectrometer collects many different types of light - for each pixel the amount of light energy for each type of light or band will be recorded. So, for example, a camera records the amount of red, green and blue light for each pixel.\n",
    "\n",
    "Often when we work with a multispectral dataset, the band information is reported as the center wavelength value. This value represents the center point value of the wavelengths represented in that band. Thus in a band spanning 800-850 nm, the center would be 825 nm.\n",
    "\n",
    "## Spectral Resolution\n",
    "The spectral resolution of a dataset that has more than one band, refers to the spectral width of each band in the dataset. While a general spectral resolution of the sensor is often provided, not all sensors collect information within bands of uniform widths.\n",
    "\n",
    "## Spatial Resolution\n",
    "The spatial resolution of a raster represents the area on the ground that each pixel covers. If you have smaller pixels in a raster the data will appear more “detailed.” If you have large pixels in a raster, the data will appear more coarse or “fuzzy.”\n",
    "\n",
    "\n",
    "## Multispectral Imagery\n",
    "Images obtained with a ADC Lite - Tetracam's Lightweight ADC\n",
    "\n",
    "I made pitures about: \n",
    "\n",
    ">Aluminum , Copper, Brass, Iron, Stainless Steel, Painted Iron \n",
    "\n",
    "http://tetracam.com/Products-ADC_Lite.htm\n",
    "\n",
    "MRobalinho - 10-03-2019"
   ]
  },
  {
   "cell_type": "code",
   "execution_count": null,
   "metadata": {},
   "outputs": [],
   "source": [
    "# Some libraries\n",
    "import glob, os\n",
    "import numpy as np\n",
    "import matplotlib.pyplot as plt\n",
    "import pandas as pd\n",
    "from PIL import Image"
   ]
  },
  {
   "cell_type": "code",
   "execution_count": null,
   "metadata": {},
   "outputs": [],
   "source": [
    "# Verify my current folder\n",
    "currDir = os.path.dirname(os.path.realpath(\"__file__\"))\n",
    "print(currDir)  "
   ]
  },
  {
   "cell_type": "code",
   "execution_count": null,
   "metadata": {},
   "outputs": [],
   "source": [
    "# Path to the image files\n",
    "path = currDir + \"/imagedata/\"\n",
    "\n",
    "f1_alum   = path + \"alum_001.tif\"\n",
    "f1_brass  = path + \"brass_001.tif\"\n",
    "f1_copper = path + \"copper_001.tif\"\n",
    "f1_iron   = path + \"iron_001.tif\"\n",
    "f1_plasticised_copper_wire = path + \"plasticised_copper_wire_001.tif\"\n",
    "f1_stainless_steel = path + \"stainless_steel_001.tif\""
   ]
  },
  {
   "cell_type": "code",
   "execution_count": null,
   "metadata": {},
   "outputs": [],
   "source": [
    "# Read files from folder\n",
    "for file in os.listdir(path):\n",
    "    if file.endswith(\".tif\"):\n",
    "        print(os.path.join(file))"
   ]
  },
  {
   "cell_type": "code",
   "execution_count": null,
   "metadata": {},
   "outputs": [],
   "source": [
    "# Create Data Frame with image information\n",
    "df_image = []"
   ]
  },
  {
   "cell_type": "code",
   "execution_count": null,
   "metadata": {},
   "outputs": [],
   "source": [
    "def print_file(path, xfile):\n",
    "  \n",
    "  tif_f1 = Image.open(path+xfile)\n",
    "  # Obtain name file without extension \n",
    "  sample_name = os.path.basename(xfile).split('_')[0]\n",
    "  # Print information  \n",
    "  print('Inf.File:',xfile , sample_name,' Size:',tif_f1.size, ' Format:',tif_f1.format, ' Mode:', tif_f1_alum.mode,' Bands Extrems:',tif_f1.getextrema())\n",
    "  # insert information in a Pandas Data Frame\n",
    "  df_image.append((xfile, sample_name, tif_f1.size, tif_f1.format, tif_f1_alum.mode ,tif_f1.getextrema()))  "
   ]
  },
  {
   "cell_type": "code",
   "execution_count": null,
   "metadata": {},
   "outputs": [],
   "source": [
    "# Read files from folder - ALUMINUM\n",
    "os.chdir(path)\n",
    "for file in glob.glob(\"alu*.tif\"):\n",
    " #   print(file)\n",
    "    print_file(path,file)"
   ]
  },
  {
   "cell_type": "code",
   "execution_count": null,
   "metadata": {},
   "outputs": [],
   "source": [
    "# Read files from folder - BRASS\n",
    "os.chdir(path)\n",
    "for file in glob.glob(\"bras*.tif\"):\n",
    " #   print(file)\n",
    "    print_file(path,file)"
   ]
  },
  {
   "cell_type": "code",
   "execution_count": null,
   "metadata": {},
   "outputs": [],
   "source": [
    "# Read files from folder - COPPER\n",
    "os.chdir(path)\n",
    "for file in glob.glob(\"copp*.tif\"):\n",
    " #   print(file)\n",
    "    print_file(path,file)"
   ]
  },
  {
   "cell_type": "code",
   "execution_count": null,
   "metadata": {},
   "outputs": [],
   "source": [
    "# Read files from folder - IRON\n",
    "os.chdir(path)\n",
    "for file in glob.glob(\"IRO*.tif\"):\n",
    " #   print(file)\n",
    "    print_file(path,file)"
   ]
  },
  {
   "cell_type": "code",
   "execution_count": null,
   "metadata": {},
   "outputs": [],
   "source": [
    "# Read files from folder - Stainless Steel\n",
    "os.chdir(path)\n",
    "for file in glob.glob(\"Sta*.tif\"):\n",
    " #   print(file)\n",
    "    print_file(path,file)"
   ]
  },
  {
   "cell_type": "code",
   "execution_count": null,
   "metadata": {},
   "outputs": [],
   "source": [
    "df = pd.DataFrame(df_image,columns=['File','Material','Size','Format','Mode','Bands Extrems'])\n",
    "df"
   ]
  },
  {
   "cell_type": "markdown",
   "metadata": {},
   "source": [
    "# Using PIL to read images\n"
   ]
  },
  {
   "cell_type": "code",
   "execution_count": null,
   "metadata": {},
   "outputs": [],
   "source": [
    "# Read TIFF Image\n",
    "from PIL import Image\n",
    "\n",
    "tif_f1_alum = Image.open(f1_alum)\n",
    "tif_f1_brass = Image.open(f1_brass)\n",
    "tif_f1_copper = Image.open(f1_copper)\n",
    "tif_f1_iron = Image.open(f1_iron)\n",
    "tif_f1_plasticised_copper_wire = Image.open(f1_plasticised_copper_wire)\n",
    "tif_f1_stainless_steel = Image.open(f1_stainless_steel)\n",
    "\n",
    "#\n",
    "#print('File name:',f1_alum , '     Size File:',tif_f1_alum.size, '    Format file:',tif_f1_alum.format)\n"
   ]
  },
  {
   "cell_type": "code",
   "execution_count": null,
   "metadata": {},
   "outputs": [],
   "source": [
    "# Print Bands from image\n",
    "tif_f1_alum.getbands()"
   ]
  },
  {
   "cell_type": "code",
   "execution_count": null,
   "metadata": {},
   "outputs": [],
   "source": [
    "# Display extrems from each band\n",
    "def print_bands(path, xfile):\n",
    "    tif_f1 = Image.open(path+xfile)\n",
    "    print('Bands Extrems from File name:',xfile ,tif_f1.getextrema())    "
   ]
  },
  {
   "cell_type": "code",
   "execution_count": null,
   "metadata": {},
   "outputs": [],
   "source": [
    "# Read files from folder - ALUMINUM\n",
    "os.chdir(path)\n",
    "for file in glob.glob(\"*.tif\"):\n",
    " #   print(file)\n",
    "    print_bands(path,file)"
   ]
  },
  {
   "cell_type": "code",
   "execution_count": null,
   "metadata": {},
   "outputs": [],
   "source": [
    "print(tif_f1_alum.getcolors())"
   ]
  },
  {
   "cell_type": "code",
   "execution_count": null,
   "metadata": {},
   "outputs": [],
   "source": [
    "# Transform Image to array\n",
    "aArray = np.array(tif_f1_alum)\n",
    "#aArray = np.array(x0_channel)\n",
    "#a[:,:,0] *=0\n",
    "#a[:,:,1] *=0\n",
    "\n",
    "# Transform array to Image\n",
    "cImage = Image.fromarray(aArray)\n",
    "aArray "
   ]
  },
  {
   "cell_type": "code",
   "execution_count": null,
   "metadata": {},
   "outputs": [],
   "source": [
    "# Transform array to list\n",
    "matrix = aArray.tolist()\n",
    "#print(\"Original array: \"+str(matrix))\n",
    "matrix"
   ]
  },
  {
   "cell_type": "code",
   "execution_count": null,
   "metadata": {},
   "outputs": [],
   "source": [
    "# Look from an chanel from then image\n",
    "\n",
    "def channel(img, n):\n",
    "    \"\"\"Isolate the nth channel from the image.\n",
    "\n",
    "       n = 0: red, 1: green, 2: blue\n",
    "    \"\"\"\n",
    "    a = np.array(img)\n",
    "    a[:,:,(n!=0, n!=1, n!=2)] *= 0\n",
    "#    a[:,:,n] *= 0\n",
    "    print(Image.fromarray(a), 'Get Channel n: ', n)\n",
    "  \n",
    "    return Image.fromarray(a)\n",
    "\n",
    "# def to resize \n",
    "# Given parameters : image , number to divide (resize)\n",
    "def imageResize(img, n):\n",
    "    width, height = img.size \n",
    "\n",
    "    print('Original size:', width, '/', height, 'Resize:',n)\n",
    "    \n",
    "    newWidth = int(width / n)\n",
    "    newHeight = int(height / n)\n",
    "    img.resize((newWidth, newHeight), Image.ANTIALIAS)\n",
    "    print('New size:', newWidth, '/', newHeight)\n",
    "    return img"
   ]
  },
  {
   "cell_type": "code",
   "execution_count": null,
   "metadata": {},
   "outputs": [],
   "source": [
    "# Get channel 0\n",
    "x0_channel = channel(cImage, 0)\n",
    "x0_channel"
   ]
  },
  {
   "cell_type": "code",
   "execution_count": null,
   "metadata": {},
   "outputs": [],
   "source": [
    "# Get channel 1\n",
    "x1_channel = channel(cImage, 1)\n",
    "x1_channel"
   ]
  },
  {
   "cell_type": "code",
   "execution_count": null,
   "metadata": {},
   "outputs": [],
   "source": [
    "# Get channel 2\n",
    "x2_channel = channel(cImage, 2)\n",
    "x2_channel"
   ]
  },
  {
   "cell_type": "code",
   "execution_count": null,
   "metadata": {},
   "outputs": [],
   "source": [
    "# Resize Image\n",
    "aFile = cImage\n",
    "xFile = imageResize(aFile, 20)\n",
    "   \n",
    "          \n",
    "#Saved in the same relative location \n",
    "xFile.save(\"resized_picture.jpg\") "
   ]
  },
  {
   "cell_type": "code",
   "execution_count": null,
   "metadata": {},
   "outputs": [],
   "source": [
    "print(xFile)"
   ]
  },
  {
   "cell_type": "code",
   "execution_count": null,
   "metadata": {},
   "outputs": [],
   "source": [
    "# Getting histogram of image \n",
    "aHistgram = aFile.histogram()\n",
    "print(aHistgram)"
   ]
  },
  {
   "cell_type": "code",
   "execution_count": null,
   "metadata": {},
   "outputs": [],
   "source": [
    "# Getting histogram of image of channel 0 - R\n",
    "aHist_0= x0_channel.histogram() \n",
    "print(aHist_0)"
   ]
  },
  {
   "cell_type": "code",
   "execution_count": null,
   "metadata": {},
   "outputs": [],
   "source": [
    "# Getting histogram of image of channel 1 - B\n",
    "aHist_1= x1_channel.histogram() \n",
    "print(aHist_1)"
   ]
  },
  {
   "cell_type": "code",
   "execution_count": null,
   "metadata": {},
   "outputs": [],
   "source": [
    "# Getting histogram of image of channel 2 - B \n",
    "aHist_2= x2_channel.histogram() \n",
    "print(aHist_2)"
   ]
  },
  {
   "cell_type": "code",
   "execution_count": null,
   "metadata": {},
   "outputs": [],
   "source": [
    "plt.plot(aHistgram)\n",
    "plt.title('IMAGE WITH ALL CHANNELS')\n",
    "plt.ylabel('My Image for all channels')\n",
    "plt.show()"
   ]
  },
  {
   "cell_type": "code",
   "execution_count": null,
   "metadata": {},
   "outputs": [],
   "source": [
    "plt.plot(aHist_0, color='r')\n",
    "plt.title('IMAGE CHANNEL 0')\n",
    "plt.ylabel('My Image channel 0')\n",
    "plt.show()"
   ]
  },
  {
   "cell_type": "code",
   "execution_count": null,
   "metadata": {},
   "outputs": [],
   "source": [
    "plt.plot(aHist_1, color='g')\n",
    "plt.title('IMAGE CHANNEL 1')\n",
    "plt.ylabel('My Image channel 1')\n",
    "plt.show()"
   ]
  },
  {
   "cell_type": "code",
   "execution_count": null,
   "metadata": {},
   "outputs": [],
   "source": [
    "plt.plot(aHist_2, color='b')\n",
    "plt.title('IMAGE CHANNEL 2')\n",
    "plt.ylabel('My Image channel 2')\n",
    "plt.show()"
   ]
  },
  {
   "cell_type": "code",
   "execution_count": null,
   "metadata": {},
   "outputs": [],
   "source": [
    "plt.figure(1)\n",
    "plt.figure(figsize=(17, 4))\n",
    "plt.tight_layout()\n",
    "plt.subplot(231)\n",
    "plt.title('IMAGE CHANNEL 0')\n",
    "plt.plot(aHist_0,   'k--')\n",
    "\n",
    "plt.subplot(232)\n",
    "plt.title('IMAGE CHANNEL 1')\n",
    "plt.plot(aHist_1,  'r--')\n",
    "\n",
    "plt.subplot(233)\n",
    "plt.title('IMAGE CHANNEL 2')\n",
    "plt.plot(aHist_2,  'g--' )\n",
    "plt.show()"
   ]
  },
  {
   "cell_type": "code",
   "execution_count": null,
   "metadata": {},
   "outputs": [],
   "source": [
    "## Using Matplotlib"
   ]
  },
  {
   "cell_type": "code",
   "execution_count": null,
   "metadata": {},
   "outputs": [],
   "source": [
    "import matplotlib.pyplot as plt\n",
    "import matplotlib.image as mpimg\n",
    "import numpy as np"
   ]
  },
  {
   "cell_type": "code",
   "execution_count": null,
   "metadata": {},
   "outputs": [],
   "source": [
    "# Read in the image and print some stats\n",
    "file1 = f1_alum\n",
    "image = mpimg.imread(file1)\n",
    "print(f1_alum, '   This image is: ',type(image), \n",
    "     'with dimensions:', image.shape)"
   ]
  },
  {
   "cell_type": "code",
   "execution_count": null,
   "metadata": {},
   "outputs": [],
   "source": [
    "# Plotting the image\n",
    "\n",
    "imgplot=plt.imshow(image)\n",
    "plt.show()# Using Matplotlib to plot the Image"
   ]
  },
  {
   "cell_type": "code",
   "execution_count": null,
   "metadata": {},
   "outputs": [],
   "source": [
    "#splitting the image \n",
    "print(file1.split()) "
   ]
  },
  {
   "cell_type": "code",
   "execution_count": null,
   "metadata": {},
   "outputs": [],
   "source": [
    "bFile = file1.split()\n",
    "bFile"
   ]
  },
  {
   "cell_type": "code",
   "execution_count": null,
   "metadata": {},
   "outputs": [],
   "source": [
    "#In-place modification \n",
    "cFile = cImage.thumbnail((200, 200)) \n",
    "cImage"
   ]
  },
  {
   "cell_type": "code",
   "execution_count": null,
   "metadata": {},
   "outputs": [],
   "source": [
    "print(tiff.mode) \n",
    "          \n",
    "#converting image to bitmap \n",
    "print(tiff.tobitmap()) \n",
    "          \n",
    "print(type(tiff.tobitmap()) )"
   ]
  },
  {
   "cell_type": "code",
   "execution_count": null,
   "metadata": {},
   "outputs": [],
   "source": []
  }
 ],
 "metadata": {
  "kernelspec": {
   "display_name": "Python 3",
   "language": "python",
   "name": "python3"
  },
  "language_info": {
   "codemirror_mode": {
    "name": "ipython",
    "version": 3
   },
   "file_extension": ".py",
   "mimetype": "text/x-python",
   "name": "python",
   "nbconvert_exporter": "python",
   "pygments_lexer": "ipython3",
   "version": "3.7.1"
  }
 },
 "nbformat": 4,
 "nbformat_minor": 2
}
